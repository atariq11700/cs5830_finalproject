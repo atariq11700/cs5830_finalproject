{
 "cells": [
  {
   "cell_type": "code",
   "execution_count": null,
   "metadata": {},
   "outputs": [],
   "source": [
    "import numpy as np\n",
    "import matplotlib.pyplot as plt\n",
    "import torch\n",
    "import torchvision\n",
    "\n",
    "from models.CNN_model import CNN\n",
    "from models.CNN_SE_model import CNN_SE"
   ]
  },
  {
   "cell_type": "code",
   "execution_count": null,
   "metadata": {},
   "outputs": [],
   "source": [
    "MODEL_CNN_PATH = \"saved-models/cnn.pt\"\n",
    "MODEL_CNN_SE_PATH = \"saved-models/cnn-se.pt\""
   ]
  },
  {
   "cell_type": "code",
   "execution_count": null,
   "metadata": {},
   "outputs": [],
   "source": [
    "def view_kernels(kernels: torch.Tensor, output_file_name: str):\n",
    "    print(kernels.size())\n",
    "\n",
    "    kernels = kernels - kernels.min()\n",
    "    kernels = kernels / kernels.max()\n",
    "\n",
    "    imgs = torchvision.utils.make_grid(kernels)\n",
    "\n",
    "    plt.figure()\n",
    "    plt.imshow(imgs.permute(1,2,0))\n",
    "    plt.savefig(output_file_name)"
   ]
  },
  {
   "cell_type": "code",
   "execution_count": null,
   "metadata": {},
   "outputs": [],
   "source": [
    "model: CNN = CNN()\n",
    "model.load_state_dict(torch.load(MODEL_CNN_PATH))\n",
    "\n",
    "view_kernels(model.conv1.weight.detach().clone(), \"CNN-layer1-kernel.png\")\n",
    "view_kernels(model.conv2.weight.detach().clone(), \"CNN-layer2-kernel.png\")\n",
    "view_kernels(model.conv3.weight.detach().clone(), \"CNN-layer3-kernel.png\")\n"
   ]
  },
  {
   "cell_type": "code",
   "execution_count": null,
   "metadata": {},
   "outputs": [],
   "source": [
    "model: CNN_SE = CNN_SE()\n",
    "model.load_state_dict(torch.load(MODEL_CNN_SE_PATH))\n",
    "\n",
    "view_kernels(model.conv1.weight.detach().clone(), \"CNNSE-layer1-kernel.png\")\n",
    "view_kernels(model.conv2.weight.detach().clone(), \"CNNSE-layer2-kernel.png\")\n",
    "view_kernels(model.conv3.weight.detach().clone(), \"CNNSE-layer3-kernel.png\")"
   ]
  }
 ],
 "metadata": {
  "language_info": {
   "name": "python"
  },
  "orig_nbformat": 4
 },
 "nbformat": 4,
 "nbformat_minor": 2
}
