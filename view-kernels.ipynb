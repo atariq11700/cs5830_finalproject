{
 "cells": [
  {
   "cell_type": "code",
   "execution_count": 2,
   "metadata": {},
   "outputs": [],
   "source": [
    "import numpy as np\n",
    "import matplotlib.pyplot as plt\n",
    "import torch\n",
    "import torchvision\n",
    "\n",
    "from models.CNN_model import CNN\n",
    "from models.CNN_SE_model import CNN_SE"
   ]
  },
  {
   "cell_type": "code",
   "execution_count": 3,
   "metadata": {},
   "outputs": [],
   "source": [
    "MODEL_CNN_PATH = \"saved-models/cnn.pt\"\n",
    "MODEL_CNN_SE_PATH = \"saved-models/cnn-se.pt\""
   ]
  },
  {
   "cell_type": "code",
   "execution_count": 48,
   "metadata": {},
   "outputs": [],
   "source": []
  },
  {
   "cell_type": "code",
   "execution_count": 66,
   "metadata": {},
   "outputs": [
    {
     "name": "stdout",
     "output_type": "stream",
     "text": [
      "Out Channels: 32, In Channels: 16, Kernel Size: [3, 3]\n",
      "Figure Height: 17, Figure Width: 33, Figure Channels: 3\n"
     ]
    },
    {
     "data": {
      "image/png": "[encoded data removed]",
      "text/plain": [
       "<Figure size 640x480 with 1 Axes>"
      ]
     },
     "metadata": {},
     "output_type": "display_data"
    },
    {
     "data": {
      "text/plain": [
       "<Figure size 640x480 with 0 Axes>"
      ]
     },
     "metadata": {},
     "output_type": "display_data"
    }
   ],
   "source": [
    "def view_kernels(kernels: torch.Tensor, output_file_name: str, ch=0):\n",
    "    out_ch, in_ch, *ksize = kernels.shape\n",
    "    print(f\"Out Channels: {out_ch}, In Channels: {in_ch}, Kernel Size: {ksize}\")\n",
    "\n",
    "    kernels = kernels - kernels.min()\n",
    "    kernels = kernels / kernels.max()\n",
    "\n",
    "    if in_ch != 3:\n",
    "        #[out_channels, in_channels, kernel_width, kernel_height]\n",
    "        kernels = kernels[:, ch, :, :].unsqueeze(dim=1)\n",
    "\n",
    "    imgs = torchvision.utils.make_grid(kernels, padding=1)\n",
    "    imgs = imgs.cpu()\n",
    "    imgs = imgs.permute(1,2,0)\n",
    "    fig_height, fig_width, fig_channels = imgs.shape\n",
    "    print(f\"Figure Height: {fig_height}, Figure Width: {fig_width}, Figure Channels: {fig_channels}\")\n",
    "\n",
    "    plt.figure()\n",
    "    plt.imshow(imgs)\n",
    "    plt.show()\n",
    "    plt.savefig(output_file_name)\n",
    "\n",
    "\n",
    "\n",
    "model: CNN = torch.load(MODEL_CNN_PATH)\n",
    "# view_kernels(model.conv1.weight.detach().clone().cpu(), \"CNN-layer1-kernel.png\")\n",
    "view_kernels(model.conv2.weight.detach().clone().cpu(), \"CNN-layer2-kernel.png\", ch=8)\n",
    "# view_kernels(model.conv3.weight.detach().clone(), \"CNN-layer3-kernel.png\")\n"
   ]
  },
  {
   "cell_type": "code",
   "execution_count": null,
   "metadata": {},
   "outputs": [],
   "source": [
    "model: CNN_SE = CNN_SE()\n",
    "model.load_state_dict(torch.load(MODEL_CNN_SE_PATH))\n",
    "\n",
    "view_kernels(model.conv1.weight.detach().clone(), \"CNNSE-layer1-kernel.png\")\n",
    "view_kernels(model.conv2.weight.detach().clone(), \"CNNSE-layer2-kernel.png\")\n",
    "view_kernels(model.conv3.weight.detach().clone(), \"CNNSE-layer3-kernel.png\")"
   ]
  }
 ],
 "metadata": {
  "kernelspec": {
   "display_name": "Python 3",
   "language": "python",
   "name": "python3"
  },
  "language_info": {
   "codemirror_mode": {
    "name": "ipython",
    "version": 3
   },
   "file_extension": ".py",
   "mimetype": "text/x-python",
   "name": "python",
   "nbconvert_exporter": "python",
   "pygments_lexer": "ipython3",
   "version": "3.11.2"
  },
  "orig_nbformat": 4
 },
 "nbformat": 4,
 "nbformat_minor": 2
}
