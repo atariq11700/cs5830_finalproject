{
 "cells": [
  {
   "cell_type": "code",
   "execution_count": null,
   "metadata": {},
   "outputs": [],
   "source": [
    "import kaggle\n",
    "kaggle.api.dataset_download_files(dataset=\"seryouxblaster764/fgvc-aircraft\", path=\"data/aircraft\", unzip=True)\n",
    "kaggle.api.dataset_download_files(dataset=\"gpiosenka/100-bird-species\", path=\"data/birds\", unzip=True)"
   ]
  }
 ],
 "metadata": {
  "language_info": {
   "name": "python"
  },
  "orig_nbformat": 4
 },
 "nbformat": 4,
 "nbformat_minor": 2
}
