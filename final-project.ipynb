{
 "cells": [
  {
   "cell_type": "code",
   "execution_count": 1,
   "metadata": {},
   "outputs": [],
   "source": [
    "import torch\n",
    "import torch.nn as nn\n",
    "import torch.optim as optim\n",
    "import matplotlib.pyplot as plt\n",
    "import torchvision.transforms as transforms\n",
    "from torchvision.datasets import ImageFolder\n",
    "from torch.utils.data import DataLoader, random_split\n",
    "from models.CNN_SE_model import CNN_SE\n",
    "from models.CNN_model import CNN\n",
    "from copy import deepcopy\n",
    "from tqdm import tqdm\n",
    "import time\n",
    "from datetime import datetime, timedelta"
   ]
  },
  {
   "cell_type": "code",
   "execution_count": 2,
   "metadata": {},
   "outputs": [
    {
     "name": "stdout",
     "output_type": "stream",
     "text": [
      "14000 ['A300', 'A310', 'A320', 'A330', 'A340', 'A380', 'ATR-42', 'ATR-72', 'Aethopyga Siparaja', 'Aix Sponsa', 'Alca Torda', 'An-12', 'Anastomus Oscitans', 'Anser Caerulescens', 'Ara Militaris', 'Aramus Guarauna', 'Argusianus Argu', 'BAE 146', 'BAE-125', 'Baryphthengus Martii', 'Beechcraft 1900', 'Boeing 707', 'Boeing 717', 'Boeing 727', 'Boeing 737', 'Boeing 747', 'Boeing 757', 'Boeing 767', 'Boeing 777', 'Buteo Jamaicensis', 'C-130', 'C-47', 'CRJ-200', 'CRJ-700', 'Calidris Canutus', 'Cardinalis Sinuatus', 'Catharus Fuscescens', 'Cessna 172', 'Cessna 208', 'Cessna Citation', 'Ceuthmochares Aereus', 'Challenger 600', 'Chamaea Fasciata', 'Cinnyricinclus Leucogaster', 'Colaptes Auratus', 'Colaptes Campestris', 'Columba Livia', 'Columba Livia Domestica', 'Cyanocorax Chrysops', 'DC-10', 'DC-3', 'DC-6', 'DC-8', 'DC-9', 'DH-82', 'DHC-1', 'DHC-6', 'DR-400', 'Dash 8', 'Dendrocitta Vagabunda', 'Dornier 328', 'EMB-120', 'Embraer E-Jet', 'Embraer ERJ 145', 'Embraer Legacy 600', 'Eolophus Roseicapilla', 'Eopsaltria Australis', 'Eurofighter Typhoon', 'Eurylaimus Javanicus', 'F-16', 'FA-18', 'Falco Columbarius', 'Falcon 2000', 'Falcon 900', 'Fokker 100', 'Fokker 50', 'Fokker 70', 'Global Express', 'Gulfstream', 'Gypohierax Angolensis', 'Haematopus', 'Haemorhous Mexicanus', 'Halcyon Senegalensis', 'Harpactes Oreskios', 'Hawk T1', 'Hydroprogne Caspia', 'Hylocichla Mustelina', 'Il-76', 'Ixoreus Naevius', 'Junco Hyemalis', 'King Air', 'L-1011', 'Lagopus Lagopus', 'Lanius Ludovicianus', 'Leptoptilos Crumenifer', 'Leucocarbo Colensoi', 'Leucophaeus Atricilla', 'Lophura Swinhoii', 'MD-11', 'MD-80', 'MD-90', 'Mareca Americana', 'Megalaima Haemacephala', 'Merops Orientalis', 'Metroliner', 'Molothrus Ater', 'Nyctyornis Amictus', 'Oceanodroma Homochroa', 'PA-28', 'Phaethon Aethereu', 'Phainopepla Nitens', 'Phalcoboenus Australis', 'Pitta Brachyura', 'Platalea Ajaja', 'Plectrophenax Hyperboreus', 'Podargus Strigoides', 'Polioptila Caerulea', 'Porzana Carolina', 'Psittacula Eupatria', 'Puffinus Opisthomela', 'Regulus Calendula', 'Rollulus Rouloul', 'SR-20', 'Saab 2000', 'Saab 340', 'Sayornis Saya', 'Seiurus Aurocapilla', 'Setophaga Americana', 'Sphecotheres Vieilloti', 'Spitfire', 'Spizaetus Ornatus', 'Sturnella Magna', 'Tachycineta Thalassina', 'Tockus Fasciatus', 'Tornado', 'Trachyphonus Darnaudii', 'Tu-134', 'Tu-154', 'Tympanuchus Cupido', 'Yak-42']\n"
     ]
    }
   ],
   "source": [
    "data_transforms = transforms.Compose([\n",
    "    transforms.RandomHorizontalFlip(),\n",
    "    transforms.RandomVerticalFlip(),\n",
    "    transforms.ColorJitter(),\n",
    "    transforms.ToTensor(), \n",
    "    transforms.Normalize(mean=[0.5, 0.5, 0.5], std=[0.5, 0.5, 0.5])\n",
    "])\n",
    "\n",
    "IMAGE_FOLDER = 'images'\n",
    "# IMAGE_FOLDER = 'example_images'\n",
    "dataset = ImageFolder(root=f'./preprocessed-data/{IMAGE_FOLDER}', transform=data_transforms)\n",
    "print(len(dataset), dataset.classes)\n",
    "num_of_classes = len(dataset.classes)"
   ]
  },
  {
   "cell_type": "code",
   "execution_count": 3,
   "metadata": {},
   "outputs": [
    {
     "name": "stdout",
     "output_type": "stream",
     "text": [
      "cuda:0\n"
     ]
    }
   ],
   "source": [
    "train_size = int(0.6 * len(dataset))\n",
    "val_size = int(0.2 * len(dataset))\n",
    "test_size = len(dataset) - train_size - val_size\n",
    "\n",
    "train_dataset, val_dataset, test_dataset = random_split(dataset, [train_size, val_size, test_size])\n",
    "\n",
    "batch_size = 64\n",
    "train_loader = DataLoader(train_dataset, batch_size=batch_size, shuffle=True)\n",
    "val_loader = DataLoader(val_dataset, batch_size=batch_size, shuffle=False)\n",
    "test_loader = DataLoader(test_dataset, batch_size=batch_size, shuffle=False)\n",
    "\n",
    "device = \"cuda:0\" if torch.cuda.is_available() else \"cpu\"\n",
    "print(device)\n"
   ]
  },
  {
   "cell_type": "code",
   "execution_count": 4,
   "metadata": {},
   "outputs": [],
   "source": [
    "model_cnn = CNN(num_of_classes).to(device)\n",
    "model_cnn_se = CNN_SE(num_of_classes).to(device)\n",
    "# print(model_cnn, model_cnn_se)\n",
    "\n",
    "criterion = nn.CrossEntropyLoss()\n",
    "optimizer_cnn = optim.Adam(model_cnn.parameters(), lr=0.0004)\n",
    "optimizer_cnn_se = optim.Adam(model_cnn_se.parameters(), lr=0.0004)\n",
    "\n",
    "best_cnn_acc = -1\n",
    "best_cnn_se_acc = -1\n",
    "best_cnn = None\n",
    "best_cnn_se = None\n",
    "cnn_acc_record = {'train': [], 'val': []}\n",
    "cnn_se_acc_record = {'train': [], 'val': []}"
   ]
  },
  {
   "cell_type": "code",
   "execution_count": 5,
   "metadata": {},
   "outputs": [],
   "source": [
    "def train(epoch):\n",
    "    model_cnn.train()\n",
    "    model_cnn_se.train()\n",
    "    correct_cnn = 0\n",
    "    correct_cnn_se = 0\n",
    "    total_ct = 0\n",
    "    for x,y in train_loader:\n",
    "        x: torch.Tensor = x.to(device)\n",
    "        y: torch.Tensor = y.to(device)\n",
    "        \n",
    "        optimizer_cnn.zero_grad()\n",
    "        optimizer_cnn_se.zero_grad()\n",
    "\n",
    "        assert str(x.device) == str(y.device) == str(device), f\"x: {x.device}, y: {y.device}, device: {device}\"\n",
    "        y_hat_cnn = model_cnn(x)\n",
    "        y_hat_cnn_se = model_cnn_se(x)\n",
    "\n",
    "        loss_cnn = criterion(y_hat_cnn, y)\n",
    "        loss_cnn_se = criterion(y_hat_cnn_se, y)\n",
    "\n",
    "        correct_cnn += (torch.max(y_hat_cnn.data, 1)[1] == y).float().sum().item()\n",
    "        correct_cnn_se += (torch.max(y_hat_cnn_se.data, 1)[1] == y).float().sum().item()\n",
    "        total_ct += y.size(0)\n",
    "\n",
    "        loss_cnn.backward()\n",
    "        loss_cnn_se.backward()\n",
    "\n",
    "        optimizer_cnn.step()\n",
    "        optimizer_cnn_se.step()\n",
    "\n",
    "        # print(f\"Epoch: {epoch}, CNN loss: {loss_cnn.item()}, CNN-SE loss: {loss_cnn_se.item()}\")\n",
    "        \n",
    "    cnn_acc = correct_cnn / total_ct\n",
    "    cnn_se_acc = correct_cnn_se / total_ct\n",
    "\n",
    "    cnn_acc_record['train'].append(cnn_acc)\n",
    "    cnn_se_acc_record['train'].append(cnn_se_acc)\n",
    "\n",
    "    print(f'epoch: {epoch:>3d} training accuracy  | CNN: {round(cnn_acc, 5):.05f} CNN-SE: {round(cnn_se_acc, 5):.05f}')"
   ]
  },
  {
   "cell_type": "code",
   "execution_count": 6,
   "metadata": {},
   "outputs": [],
   "source": [
    "def validation(epoch, best_acc, best_model):\n",
    "    model_cnn.eval()\n",
    "    model_cnn_se.eval()\n",
    "    correct_cnn = 0\n",
    "    correct_cnn_se = 0\n",
    "    total_ct = 0\n",
    "    with torch.no_grad():\n",
    "        for x,y in val_loader:\n",
    "            x: torch.Tensor = x.to(device)\n",
    "            y: torch.Tensor = y.to(device)\n",
    "\n",
    "            y_hat_cnn = model_cnn(x)\n",
    "            y_hat_cnn_se = model_cnn_se(x)\n",
    "            correct_cnn += (torch.max(y_hat_cnn.data, 1)[1] == y).float().sum().item()\n",
    "            correct_cnn_se += (torch.max(y_hat_cnn_se.data, 1)[1] == y).float().sum().item()\n",
    "            total_ct += y.size(0)\n",
    "\n",
    "    cnn_acc = correct_cnn / total_ct\n",
    "    cnn_se_acc = correct_cnn_se / total_ct\n",
    "\n",
    "    cnn_acc_record['val'].append(cnn_acc)\n",
    "    cnn_se_acc_record['val'].append(cnn_se_acc)\n",
    "\n",
    "    best_cnn_acc, best_cnn_se_acc = best_acc\n",
    "    best_cnn, best_cnn_se = best_model\n",
    "    if cnn_acc > best_cnn_acc:\n",
    "        best_cnn_acc = cnn_acc\n",
    "        best_cnn = deepcopy(model_cnn.state_dict())\n",
    "    \n",
    "    if cnn_se_acc > best_cnn_se_acc:\n",
    "        best_cnn_se_acc = cnn_se_acc\n",
    "        best_cnn_se = deepcopy(model_cnn_se.state_dict())\n",
    "    \n",
    "\n",
    "    print(f'epoch: {epoch:>3d} validation accuracy| CNN: {round(cnn_acc, 5):.05f} CNN-SE: {round(cnn_se_acc, 5):.05f}')\n",
    "    return (best_cnn_acc, best_cnn_se_acc), (best_cnn, best_cnn_se)"
   ]
  },
  {
   "cell_type": "code",
   "execution_count": 7,
   "metadata": {},
   "outputs": [
    {
     "name": "stderr",
     "output_type": "stream",
     "text": [
      "d:\\Documents\\code\\school\\cs5830\\cs5830_finalproject\\models\\CNN_model.py:28: UserWarning: Implicit dimension choice for log_softmax has been deprecated. Change the call to include dim=X as an argument.\n",
      "  return F.log_softmax(x)\n",
      "d:\\Documents\\code\\school\\cs5830\\cs5830_finalproject\\models\\CNN_SE_model.py:54: UserWarning: Implicit dimension choice for log_softmax has been deprecated. Change the call to include dim=X as an argument.\n",
      "  return F.log_softmax(x)\n"
     ]
    },
    {
     "name": "stdout",
     "output_type": "stream",
     "text": [
      "epoch:   0 training accuracy  | CNN: 0.04571 CNN-SE: 0.04833\n",
      "epoch:   0 validation accuracy| CNN: 0.06286 CNN-SE: 0.06571\n",
      "epoch:   1 training accuracy  | CNN: 0.11238 CNN-SE: 0.11929\n",
      "epoch:   1 validation accuracy| CNN: 0.12036 CNN-SE: 0.10536\n",
      "epoch:   2 training accuracy  | CNN: 0.18619 CNN-SE: 0.18798\n",
      "epoch:   2 validation accuracy| CNN: 0.15714 CNN-SE: 0.15500\n",
      "epoch:   3 training accuracy  | CNN: 0.26750 CNN-SE: 0.26167\n",
      "epoch:   3 validation accuracy| CNN: 0.21214 CNN-SE: 0.18786\n",
      "epoch:   4 training accuracy  | CNN: 0.35238 CNN-SE: 0.34560\n",
      "epoch:   4 validation accuracy| CNN: 0.24750 CNN-SE: 0.24179\n",
      "epoch:   5 training accuracy  | CNN: 0.43190 CNN-SE: 0.43512\n",
      "epoch:   5 validation accuracy| CNN: 0.26893 CNN-SE: 0.26500\n",
      "epoch:   6 training accuracy  | CNN: 0.50512 CNN-SE: 0.50452\n",
      "epoch:   6 validation accuracy| CNN: 0.32786 CNN-SE: 0.28571\n",
      "epoch:   7 training accuracy  | CNN: 0.57321 CNN-SE: 0.57119\n",
      "epoch:   7 validation accuracy| CNN: 0.32964 CNN-SE: 0.30357\n",
      "epoch:   8 training accuracy  | CNN: 0.64714 CNN-SE: 0.64726\n",
      "epoch:   8 validation accuracy| CNN: 0.34857 CNN-SE: 0.32357\n",
      "epoch:   9 training accuracy  | CNN: 0.69321 CNN-SE: 0.69810\n",
      "epoch:   9 validation accuracy| CNN: 0.35393 CNN-SE: 0.32536\n",
      "epoch:  10 training accuracy  | CNN: 0.73464 CNN-SE: 0.74143\n",
      "epoch:  10 validation accuracy| CNN: 0.37214 CNN-SE: 0.34464\n",
      "epoch:  11 training accuracy  | CNN: 0.77679 CNN-SE: 0.77048\n",
      "epoch:  11 validation accuracy| CNN: 0.38643 CNN-SE: 0.34750\n",
      "epoch:  12 training accuracy  | CNN: 0.80667 CNN-SE: 0.81393\n",
      "epoch:  12 validation accuracy| CNN: 0.37821 CNN-SE: 0.36179\n",
      "epoch:  13 training accuracy  | CNN: 0.83393 CNN-SE: 0.84667\n",
      "epoch:  13 validation accuracy| CNN: 0.38393 CNN-SE: 0.36500\n",
      "epoch:  14 training accuracy  | CNN: 0.86131 CNN-SE: 0.86500\n",
      "epoch:  14 validation accuracy| CNN: 0.39357 CNN-SE: 0.36393\n",
      "epoch:  15 training accuracy  | CNN: 0.88726 CNN-SE: 0.88512\n",
      "epoch:  15 validation accuracy| CNN: 0.38571 CNN-SE: 0.35607\n",
      "epoch:  16 training accuracy  | CNN: 0.90393 CNN-SE: 0.90583\n",
      "epoch:  16 validation accuracy| CNN: 0.36893 CNN-SE: 0.36786\n",
      "epoch:  17 training accuracy  | CNN: 0.91571 CNN-SE: 0.91560\n",
      "epoch:  17 validation accuracy| CNN: 0.37643 CNN-SE: 0.37214\n",
      "epoch:  18 training accuracy  | CNN: 0.92762 CNN-SE: 0.93333\n",
      "epoch:  18 validation accuracy| CNN: 0.38536 CNN-SE: 0.36214\n",
      "epoch:  19 training accuracy  | CNN: 0.93607 CNN-SE: 0.94143\n",
      "epoch:  19 validation accuracy| CNN: 0.37143 CNN-SE: 0.37714\n",
      "Total Time: 0:08:46.135473 seconds\n"
     ]
    }
   ],
   "source": [
    "EPOCHS = 20\n",
    "starttime = time.time_ns()\n",
    "for epoch in range(EPOCHS):\n",
    "    train(epoch)\n",
    "    (best_cnn_acc, best_cnn_se_acc), (best_cnn, best_cnn_se) = validation(epoch, (best_cnn_acc, best_cnn_se_acc), (best_cnn, best_cnn_se))\n",
    "print(f\"Total Time: {timedelta(milliseconds=((time.time_ns() - starttime) / 1000000))} seconds\")"
   ]
  },
  {
   "cell_type": "code",
   "execution_count": 8,
   "metadata": {},
   "outputs": [
    {
     "name": "stdout",
     "output_type": "stream",
     "text": [
      "test accuracy| CNN: 0.38393 CNN-SE: 0.38214\n"
     ]
    }
   ],
   "source": [
    "model_cnn.load_state_dict(best_cnn)\n",
    "model_cnn_se.load_state_dict(best_cnn_se)\n",
    "model_cnn.eval()\n",
    "model_cnn_se.eval()\n",
    "correct_cnn = 0\n",
    "correct_cnn_se = 0\n",
    "total_ct = 0\n",
    "with torch.no_grad():\n",
    "    for x,y in test_loader:\n",
    "        x: torch.Tensor = x.to(device)\n",
    "        y: torch.Tensor = y.to(device)\n",
    "\n",
    "        y_hat_cnn = model_cnn(x)\n",
    "        y_hat_cnn_se = model_cnn_se(x)\n",
    "        correct_cnn += (torch.max(y_hat_cnn.data, 1)[1] == y).float().sum().item()\n",
    "        correct_cnn_se += (torch.max(y_hat_cnn_se.data, 1)[1] == y).float().sum().item()\n",
    "        total_ct += y.size(0)\n",
    "\n",
    "cnn_acc = correct_cnn / total_ct\n",
    "cnn_se_acc = correct_cnn_se / total_ct\n",
    "\n",
    "torch.save(model_cnn, \"saved-models/cnn.pt\")\n",
    "torch.save(model_cnn_se, \"saved-models/cnn-se.pt\")\n",
    "\n",
    "print(f'test accuracy| CNN: {round(cnn_acc, 5)} CNN-SE: {round(cnn_se_acc, 5)}')\n"
   ]
  },
  {
   "cell_type": "code",
   "execution_count": 9,
   "metadata": {},
   "outputs": [
    {
     "data": {
      "image/png": "[encoded data removed]",
      "text/plain": [
       "<Figure size 640x480 with 1 Axes>"
      ]
     },
     "metadata": {},
     "output_type": "display_data"
    }
   ],
   "source": [
    "plt.plot(cnn_acc_record['train'], label='CNN (train)')\n",
    "plt.plot(cnn_acc_record['val'], label='CNN (val)')\n",
    "\n",
    "plt.plot(cnn_se_acc_record['train'], label='CNN-SE (train)')\n",
    "plt.plot(cnn_se_acc_record['val'], label='CNN-SE (val)')\n",
    "\n",
    "plt.title('Training and Validation Accuracy for Two Models')\n",
    "plt.legend()\n",
    "\n",
    "plt.show()\n"
   ]
  }
 ],
 "metadata": {
  "kernelspec": {
   "display_name": "Python 3",
   "language": "python",
   "name": "python3"
  },
  "language_info": {
   "codemirror_mode": {
    "name": "ipython",
    "version": 3
   },
   "file_extension": ".py",
   "mimetype": "text/x-python",
   "name": "python",
   "nbconvert_exporter": "python",
   "pygments_lexer": "ipython3",
   "version": "3.11.0"
  },
  "orig_nbformat": 4
 },
 "nbformat": 4,
 "nbformat_minor": 2
}
