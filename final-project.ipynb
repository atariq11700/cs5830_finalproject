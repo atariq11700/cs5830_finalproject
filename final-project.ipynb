{
 "cells": [
  {
   "cell_type": "code",
   "execution_count": 1,
   "metadata": {},
   "outputs": [],
   "source": [
    "import torch\n",
    "import kaggle\n",
    "import torch.nn as nn\n",
    "import torch.optim as optim\n",
    "import matplotlib.pyplot as plt\n",
    "import torchvision.transforms as transforms\n",
    "from torchvision.datasets import ImageFolder\n",
    "from torch.utils.data import DataLoader, random_split\n",
    "from models.CNN_SE_model import CNN_SE\n",
    "from models.CNN_model import CNN\n",
    "from copy import deepcopy\n"
   ]
  },
  {
   "cell_type": "code",
   "execution_count": 2,
   "metadata": {},
   "outputs": [],
   "source": [
    "# kaggle.api.authenticate()\n",
    "# kaggle.api.dataset_download_files(dataset=\"seryouxblaster764/fgvc-aircraft\", path=\"data/aircraft\", unzip=True)\n",
    "# kaggle.api.dataset_download_files(dataset=\"gpiosenka/100-bird-species\", path=\"data/birds\", unzip=True)"
   ]
  },
  {
   "cell_type": "code",
   "execution_count": 3,
   "metadata": {},
   "outputs": [
    {
     "name": "stdout",
     "output_type": "stream",
     "text": [
      "202 ['aircraft', 'birds']\n"
     ]
    }
   ],
   "source": [
    "data_transforms = transforms.Compose([\n",
    "    transforms.ToTensor(), \n",
    "    transforms.Normalize(mean=[0.5, 0.5, 0.5], std=[0.5, 0.5, 0.5])\n",
    "])\n",
    "\n",
    "IMAGE_FOLDER = 'example_images'\n",
    "# IMAGE_FOLDER = 'images'\n",
    "dataset = ImageFolder(root=f'./preprocessed-data/{IMAGE_FOLDER}', transform=data_transforms)\n",
    "print(len(dataset), dataset.classes)\n",
    "num_of_classes = len(dataset.classes)"
   ]
  },
  {
   "cell_type": "code",
   "execution_count": 4,
   "metadata": {},
   "outputs": [],
   "source": [
    "train_size = int(0.6 * len(dataset))\n",
    "val_size = int(0.2 * len(dataset))\n",
    "test_size = len(dataset) - train_size - val_size\n",
    "\n",
    "train_dataset, val_dataset, test_dataset = random_split(dataset, [train_size, val_size, test_size])\n",
    "\n",
    "batch_size = 64\n",
    "train_loader = DataLoader(train_dataset, batch_size=batch_size, shuffle=True)\n",
    "val_loader = DataLoader(val_dataset, batch_size=batch_size, shuffle=False)\n",
    "test_loader = DataLoader(test_dataset, batch_size=batch_size, shuffle=False)\n",
    "device = 'cpu'"
   ]
  },
  {
   "cell_type": "code",
   "execution_count": 5,
   "metadata": {},
   "outputs": [],
   "source": [
    "if device == 'cuda':\n",
    "    model_cnn = CNN(num_of_classes).to(device)\n",
    "    model_cnn_se = CNN_SE(num_of_classes).to(device)\n",
    "else:\n",
    "    model_cnn = CNN(num_of_classes)\n",
    "    model_cnn_se = CNN_SE(num_of_classes)\n",
    "\n",
    "\n",
    "criterion = nn.CrossEntropyLoss()\n",
    "optimizer_cnn = optim.Adam(model_cnn.parameters(), lr=0.001)\n",
    "optimizer_cnn_se = optim.Adam(model_cnn_se.parameters(), lr=0.001)\n",
    "\n",
    "best_cnn_acc = -1\n",
    "best_cnn_se_acc = -1\n",
    "best_cnn = None\n",
    "best_cnn_se = None\n",
    "cnn_acc_record = {'train': [], 'val': []}\n",
    "cnn_se_acc_record = {'train': [], 'val': []}"
   ]
  },
  {
   "cell_type": "code",
   "execution_count": 6,
   "metadata": {},
   "outputs": [],
   "source": [
    "def train(epoch):\n",
    "    model_cnn.train()\n",
    "    model_cnn_se.train()\n",
    "    correct_cnn = 0\n",
    "    correct_cnn_se = 0\n",
    "    total_ct = 0\n",
    "    for data in train_loader:\n",
    "        x, y = data\n",
    "        optimizer_cnn.zero_grad()\n",
    "        optimizer_cnn_se.zero_grad()\n",
    "\n",
    "        y_hat_cnn = model_cnn(x)\n",
    "        y_hat_cnn_se = model_cnn_se(x)\n",
    "\n",
    "        loss_cnn = criterion(y_hat_cnn, y)\n",
    "        loss_cnn_se = criterion(y_hat_cnn_se, y)\n",
    "\n",
    "        correct_cnn += (torch.max(y_hat_cnn.data, 1)[1] == y).float().sum().item()\n",
    "        correct_cnn_se += (torch.max(y_hat_cnn_se.data, 1)[1] == y).float().sum().item()\n",
    "        total_ct += y.size(0)\n",
    "\n",
    "        loss_cnn.backward()\n",
    "        loss_cnn_se.backward()\n",
    "\n",
    "        optimizer_cnn.step()\n",
    "        optimizer_cnn_se.step()\n",
    "\n",
    "        # print(f\"Epoch: {epoch}, CNN loss: {loss_cnn.item()}, CNN-SE loss: {loss_cnn_se.item()}\")\n",
    "        \n",
    "    cnn_acc = correct_cnn / total_ct\n",
    "    cnn_se_acc = correct_cnn_se / total_ct\n",
    "\n",
    "    cnn_acc_record['train'].append(cnn_acc)\n",
    "    cnn_se_acc_record['train'].append(cnn_se_acc)\n",
    "\n",
    "    print(f'epoch: {epoch} training accuracy| CNN: {round(cnn_acc, 5)} CNN-SE: {round(cnn_se_acc, 5)}')"
   ]
  },
  {
   "cell_type": "code",
   "execution_count": 7,
   "metadata": {},
   "outputs": [],
   "source": [
    "def validation(epoch, best_acc, best_model):\n",
    "    model_cnn.eval()\n",
    "    model_cnn_se.eval()\n",
    "    correct_cnn = 0\n",
    "    correct_cnn_se = 0\n",
    "    total_ct = 0\n",
    "    with torch.no_grad():\n",
    "        for data in val_loader:\n",
    "            x, y = data\n",
    "            y_hat_cnn = model_cnn(x)\n",
    "            y_hat_cnn_se = model_cnn_se(x)\n",
    "            correct_cnn += (torch.max(y_hat_cnn.data, 1)[1] == y).float().sum().item()\n",
    "            correct_cnn_se += (torch.max(y_hat_cnn_se.data, 1)[1] == y).float().sum().item()\n",
    "            total_ct += y.size(0)\n",
    "\n",
    "    cnn_acc = correct_cnn / total_ct\n",
    "    cnn_se_acc = correct_cnn_se / total_ct\n",
    "\n",
    "    cnn_acc_record['val'].append(cnn_acc)\n",
    "    cnn_se_acc_record['val'].append(cnn_se_acc)\n",
    "\n",
    "    best_cnn_acc, best_cnn_se_acc = best_acc\n",
    "    best_cnn, best_cnn_se = best_model\n",
    "    if cnn_acc > best_cnn_acc:\n",
    "        best_cnn_acc = cnn_acc\n",
    "        best_cnn = deepcopy(model_cnn.state_dict())\n",
    "    \n",
    "    if cnn_se_acc > best_cnn_se_acc:\n",
    "        best_cnn_se_acc = cnn_se_acc\n",
    "        best_cnn_se = deepcopy(model_cnn_se.state_dict())\n",
    "    \n",
    "\n",
    "    print(f'epoch: {epoch} validation accuracy| CNN: {round(cnn_acc, 5)} CNN-SE: {round(cnn_se_acc, 5)}')\n",
    "    return (best_cnn_acc, best_cnn_se_acc), (best_cnn, best_cnn_se)"
   ]
  },
  {
   "cell_type": "code",
   "execution_count": 8,
   "metadata": {},
   "outputs": [
    {
     "name": "stdout",
     "output_type": "stream",
     "text": [
      "epoch: 0 training accuracy| CNN: 0.70248 CNN-SE: 0.61157\n",
      "epoch: 0 validation accuracy| CNN: 0.725 CNN-SE: 0.675\n",
      "epoch: 1 training accuracy| CNN: 0.95041 CNN-SE: 0.95041\n",
      "epoch: 1 validation accuracy| CNN: 0.925 CNN-SE: 0.875\n",
      "epoch: 2 training accuracy| CNN: 0.98347 CNN-SE: 0.97521\n",
      "epoch: 2 validation accuracy| CNN: 0.875 CNN-SE: 0.9\n",
      "epoch: 3 training accuracy| CNN: 0.99174 CNN-SE: 0.98347\n",
      "epoch: 3 validation accuracy| CNN: 0.8 CNN-SE: 0.875\n",
      "epoch: 4 training accuracy| CNN: 0.98347 CNN-SE: 1.0\n",
      "epoch: 4 validation accuracy| CNN: 0.8 CNN-SE: 0.9\n",
      "epoch: 5 training accuracy| CNN: 1.0 CNN-SE: 1.0\n",
      "epoch: 5 validation accuracy| CNN: 0.9 CNN-SE: 0.9\n",
      "epoch: 6 training accuracy| CNN: 1.0 CNN-SE: 1.0\n",
      "epoch: 6 validation accuracy| CNN: 0.925 CNN-SE: 0.9\n",
      "epoch: 7 training accuracy| CNN: 1.0 CNN-SE: 1.0\n",
      "epoch: 7 validation accuracy| CNN: 0.925 CNN-SE: 0.85\n",
      "epoch: 8 training accuracy| CNN: 1.0 CNN-SE: 1.0\n",
      "epoch: 8 validation accuracy| CNN: 0.875 CNN-SE: 0.85\n",
      "epoch: 9 training accuracy| CNN: 1.0 CNN-SE: 1.0\n",
      "epoch: 9 validation accuracy| CNN: 0.875 CNN-SE: 0.9\n",
      "epoch: 10 training accuracy| CNN: 1.0 CNN-SE: 1.0\n",
      "epoch: 10 validation accuracy| CNN: 0.9 CNN-SE: 0.925\n",
      "epoch: 11 training accuracy| CNN: 1.0 CNN-SE: 1.0\n",
      "epoch: 11 validation accuracy| CNN: 0.875 CNN-SE: 0.925\n",
      "epoch: 12 training accuracy| CNN: 1.0 CNN-SE: 1.0\n",
      "epoch: 12 validation accuracy| CNN: 0.9 CNN-SE: 0.95\n",
      "epoch: 13 training accuracy| CNN: 1.0 CNN-SE: 1.0\n",
      "epoch: 13 validation accuracy| CNN: 0.9 CNN-SE: 0.95\n",
      "epoch: 14 training accuracy| CNN: 1.0 CNN-SE: 1.0\n",
      "epoch: 14 validation accuracy| CNN: 0.9 CNN-SE: 0.95\n",
      "epoch: 15 training accuracy| CNN: 1.0 CNN-SE: 1.0\n",
      "epoch: 15 validation accuracy| CNN: 0.9 CNN-SE: 0.95\n",
      "epoch: 16 training accuracy| CNN: 1.0 CNN-SE: 1.0\n",
      "epoch: 16 validation accuracy| CNN: 0.925 CNN-SE: 0.95\n",
      "epoch: 17 training accuracy| CNN: 1.0 CNN-SE: 1.0\n",
      "epoch: 17 validation accuracy| CNN: 0.95 CNN-SE: 0.95\n",
      "epoch: 18 training accuracy| CNN: 1.0 CNN-SE: 1.0\n",
      "epoch: 18 validation accuracy| CNN: 0.95 CNN-SE: 0.95\n",
      "epoch: 19 training accuracy| CNN: 1.0 CNN-SE: 1.0\n",
      "epoch: 19 validation accuracy| CNN: 0.95 CNN-SE: 0.95\n"
     ]
    }
   ],
   "source": [
    "EPOCHS = 20\n",
    "for epoch in range(EPOCHS):\n",
    "    train(epoch)\n",
    "    (best_cnn_acc, best_cnn_se_acc), (best_cnn, best_cnn_se) = validation(epoch, (best_cnn_acc, best_cnn_se_acc), (best_cnn, best_cnn_se))"
   ]
  },
  {
   "cell_type": "code",
   "execution_count": 9,
   "metadata": {},
   "outputs": [
    {
     "name": "stdout",
     "output_type": "stream",
     "text": [
      "test accuracy| CNN: 0.97561 CNN-SE: 0.95122\n"
     ]
    }
   ],
   "source": [
    "model_cnn.load_state_dict(best_cnn)\n",
    "model_cnn_se.load_state_dict(best_cnn_se)\n",
    "model_cnn.eval()\n",
    "model_cnn_se.eval()\n",
    "correct_cnn = 0\n",
    "correct_cnn_se = 0\n",
    "total_ct = 0\n",
    "with torch.no_grad():\n",
    "    for data in test_loader:\n",
    "        x, y = data\n",
    "        y_hat_cnn = model_cnn(x)\n",
    "        y_hat_cnn_se = model_cnn_se(x)\n",
    "        correct_cnn += (torch.max(y_hat_cnn.data, 1)[1] == y).float().sum().item()\n",
    "        correct_cnn_se += (torch.max(y_hat_cnn_se.data, 1)[1] == y).float().sum().item()\n",
    "        total_ct += y.size(0)\n",
    "\n",
    "cnn_acc = correct_cnn / total_ct\n",
    "cnn_se_acc = correct_cnn_se / total_ct\n",
    "\n",
    "print(f'test accuracy| CNN: {round(cnn_acc, 5)} CNN-SE: {round(cnn_se_acc, 5)}')\n"
   ]
  },
  {
   "cell_type": "code",
   "execution_count": 10,
   "metadata": {},
   "outputs": [
    {
     "data": {
      "image/png": "[encoded data removed]",
      "text/plain": [
       "<Figure size 640x480 with 1 Axes>"
      ]
     },
     "metadata": {},
     "output_type": "display_data"
    }
   ],
   "source": [
    "plt.plot(cnn_acc_record['train'], label='CNN (train)')\n",
    "plt.plot(cnn_acc_record['val'], label='CNN (val)')\n",
    "\n",
    "plt.plot(cnn_se_acc_record['train'], label='CNN-SE (train)')\n",
    "plt.plot(cnn_se_acc_record['val'], label='CNN-SE (val)')\n",
    "\n",
    "plt.title('Training and Validation Accuracy for Two Models')\n",
    "plt.legend()\n",
    "\n",
    "plt.show()\n"
   ]
  }
 ],
 "metadata": {
  "kernelspec": {
   "display_name": "Python 3",
   "language": "python",
   "name": "python3"
  },
  "language_info": {
   "codemirror_mode": {
    "name": "ipython",
    "version": 3
   },
   "file_extension": ".py",
   "mimetype": "text/x-python",
   "name": "python",
   "nbconvert_exporter": "python",
   "pygments_lexer": "ipython3",
   "version": "3.9.2"
  },
  "orig_nbformat": 4
 },
 "nbformat": 4,
 "nbformat_minor": 2
}
