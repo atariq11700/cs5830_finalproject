{
 "cells": [
  {
   "cell_type": "code",
   "execution_count": 1,
   "metadata": {},
   "outputs": [],
   "source": [
    "import torch\n",
    "import torch.nn as nn\n",
    "import torch.optim as optim\n",
    "import matplotlib.pyplot as plt\n",
    "import torchvision.transforms as transforms\n",
    "from torchvision.datasets import ImageFolder\n",
    "from torch.utils.data import DataLoader, random_split\n",
    "from models.CNN_SE_model import CNN_SE\n",
    "from models.CNN_model import CNN\n",
    "from copy import deepcopy\n",
    "from tqdm import tqdm\n"
   ]
  },
  {
   "cell_type": "code",
   "execution_count": 2,
   "metadata": {},
   "outputs": [
    {
     "name": "stdout",
     "output_type": "stream",
     "text": [
      "20000 ['A300', 'A310', 'A320', 'A330', 'A340', 'A380', 'ATR-42', 'ATR-72', 'Aethia', 'Agelaius', 'Aix', 'Amaurornis', 'An-12', 'Anas', 'Ara', 'Ardeola', 'Asio', 'Aythya', 'BAE 146', 'BAE-125', 'Beechcraft 1900', 'Boeing 707', 'Boeing 717', 'Boeing 727', 'Boeing 737', 'Boeing 747', 'Boeing 757', 'Boeing 767', 'Boeing 777', 'Bucephala', 'Buteo', 'C-130', 'C-47', 'CRJ-200', 'CRJ-700', 'Calidris', 'Callipepla', 'Campylorhynchus', 'Cardinalis', 'Celeus', 'Cessna 172', 'Cessna 208', 'Cessna Citation', 'Challenger 600', 'Charadrius', 'Chrysococcyx', 'Coccothraustes', 'Colaptes', 'Columba', 'Coracias', 'Corvus', 'Coua', 'Cyanocorax', 'Cygnus', 'DC-10', 'DC-3', 'DC-6', 'DC-8', 'DC-9', 'DH-82', 'DHC-1', 'DHC-6', 'DR-400', 'Dash 8', 'Dendrocitta', 'Dornier 328', 'EMB-120', 'Embraer E-Jet', 'Embraer ERJ 145', 'Embraer Legacy 600', 'Euphonia', 'Euplectes', 'Eurofighter Typhoon', 'Eurylaimus', 'F-16', 'FA-18', 'Falco', 'Falcon 2000', 'Falcon 900', 'Fokker 100', 'Fokker 50', 'Fokker 70', 'Global Express', 'Grus', 'Gulfstream', 'Haematopus', 'Haemorhous', 'Halcyon', 'Harpactes', 'Hawk T1', 'Hydrornis', 'Icterus', 'Il-76', 'King Air', 'L-1011', 'Lamprotornis', 'Leptoptilos', 'Leucocarbo', 'Lophura', 'MD-11', 'MD-80', 'MD-90', 'Megaceryle', 'Melanerpes', 'Meleagris', 'Merops', 'Metroliner', 'PA-28', 'Passerina', 'Phaethon', 'Phalacrocorax', 'Pipilo', 'Piranga', 'Pitta', 'Platalea', 'Porphyrio', 'Psittacula', 'Pteroglossus', 'Regulus', 'SR-20', 'Saab 2000', 'Saab 340', 'Seiurus', 'Sericulus', 'Setophaga', 'Spinus', 'Spitfire', 'Syrmaticus', 'Tachycineta', 'Tangara', 'Tauraco', 'Tornado', 'Trachyphonus', 'Tragopan', 'Tu-134', 'Tu-154', 'Tyrannus', 'Urocissa', 'Vanellus', 'Yak-42']\n"
     ]
    }
   ],
   "source": [
    "data_transforms = transforms.Compose([\n",
    "    transforms.ToTensor(), \n",
    "    transforms.Normalize(mean=[0.5, 0.5, 0.5], std=[0.5, 0.5, 0.5])\n",
    "])\n",
    "\n",
    "IMAGE_FOLDER = 'images'\n",
    "# IMAGE_FOLDER = 'images'\n",
    "dataset = ImageFolder(root=f'./preprocessed-data/{IMAGE_FOLDER}', transform=data_transforms)\n",
    "print(len(dataset), dataset.classes)\n",
    "num_of_classes = len(dataset.classes)"
   ]
  },
  {
   "cell_type": "code",
   "execution_count": 3,
   "metadata": {},
   "outputs": [
    {
     "name": "stdout",
     "output_type": "stream",
     "text": [
      "cuda:0\n"
     ]
    }
   ],
   "source": [
    "train_size = int(0.6 * len(dataset))\n",
    "val_size = int(0.2 * len(dataset))\n",
    "test_size = len(dataset) - train_size - val_size\n",
    "\n",
    "train_dataset, val_dataset, test_dataset = random_split(dataset, [train_size, val_size, test_size])\n",
    "\n",
    "batch_size = 64\n",
    "train_loader = DataLoader(train_dataset, batch_size=batch_size, shuffle=True)\n",
    "val_loader = DataLoader(val_dataset, batch_size=batch_size, shuffle=False)\n",
    "test_loader = DataLoader(test_dataset, batch_size=batch_size, shuffle=False)\n",
    "\n",
    "device = \"cuda:0\" if torch.cuda.is_available() else \"cpu\"\n",
    "print(device)\n"
   ]
  },
  {
   "cell_type": "code",
   "execution_count": 4,
   "metadata": {},
   "outputs": [],
   "source": [
    "model_cnn = CNN(num_of_classes).to(device)\n",
    "model_cnn_se = CNN_SE(num_of_classes).to(device)\n",
    "\n",
    "criterion = nn.CrossEntropyLoss()\n",
    "optimizer_cnn = optim.Adam(model_cnn.parameters(), lr=0.001)\n",
    "optimizer_cnn_se = optim.Adam(model_cnn_se.parameters(), lr=0.001)\n",
    "\n",
    "best_cnn_acc = -1\n",
    "best_cnn_se_acc = -1\n",
    "best_cnn = None\n",
    "best_cnn_se = None\n",
    "cnn_acc_record = {'train': [], 'val': []}\n",
    "cnn_se_acc_record = {'train': [], 'val': []}"
   ]
  },
  {
   "cell_type": "code",
   "execution_count": 5,
   "metadata": {},
   "outputs": [],
   "source": [
    "def train(epoch):\n",
    "    model_cnn.train()\n",
    "    model_cnn_se.train()\n",
    "    correct_cnn = 0\n",
    "    correct_cnn_se = 0\n",
    "    total_ct = 0\n",
    "    for x,y in train_loader:\n",
    "        x: torch.Tensor = x.to(device)\n",
    "        y: torch.Tensor = y.to(device)\n",
    "        \n",
    "        optimizer_cnn.zero_grad()\n",
    "        optimizer_cnn_se.zero_grad()\n",
    "\n",
    "        assert str(x.device) == str(y.device) == str(device), f\"x: {x.device}, y: {y.device}, device: {device}\"\n",
    "        y_hat_cnn = model_cnn(x)\n",
    "        y_hat_cnn_se = model_cnn_se(x)\n",
    "\n",
    "        loss_cnn = criterion(y_hat_cnn, y)\n",
    "        loss_cnn_se = criterion(y_hat_cnn_se, y)\n",
    "\n",
    "        correct_cnn += (torch.max(y_hat_cnn.data, 1)[1] == y).float().sum().item()\n",
    "        correct_cnn_se += (torch.max(y_hat_cnn_se.data, 1)[1] == y).float().sum().item()\n",
    "        total_ct += y.size(0)\n",
    "\n",
    "        loss_cnn.backward()\n",
    "        loss_cnn_se.backward()\n",
    "\n",
    "        optimizer_cnn.step()\n",
    "        optimizer_cnn_se.step()\n",
    "\n",
    "        # print(f\"Epoch: {epoch}, CNN loss: {loss_cnn.item()}, CNN-SE loss: {loss_cnn_se.item()}\")\n",
    "        \n",
    "    cnn_acc = correct_cnn / total_ct\n",
    "    cnn_se_acc = correct_cnn_se / total_ct\n",
    "\n",
    "    cnn_acc_record['train'].append(cnn_acc)\n",
    "    cnn_se_acc_record['train'].append(cnn_se_acc)\n",
    "\n",
    "    print(f'epoch: {epoch} training accuracy| CNN: {round(cnn_acc, 5)} CNN-SE: {round(cnn_se_acc, 5)}')"
   ]
  },
  {
   "cell_type": "code",
   "execution_count": 6,
   "metadata": {},
   "outputs": [],
   "source": [
    "def validation(epoch, best_acc, best_model):\n",
    "    model_cnn.eval()\n",
    "    model_cnn_se.eval()\n",
    "    correct_cnn = 0\n",
    "    correct_cnn_se = 0\n",
    "    total_ct = 0\n",
    "    with torch.no_grad():\n",
    "        for x,y in val_loader:\n",
    "            x: torch.Tensor = x.to(device)\n",
    "            y: torch.Tensor = y.to(device)\n",
    "\n",
    "            y_hat_cnn = model_cnn(x)\n",
    "            y_hat_cnn_se = model_cnn_se(x)\n",
    "            correct_cnn += (torch.max(y_hat_cnn.data, 1)[1] == y).float().sum().item()\n",
    "            correct_cnn_se += (torch.max(y_hat_cnn_se.data, 1)[1] == y).float().sum().item()\n",
    "            total_ct += y.size(0)\n",
    "\n",
    "    cnn_acc = correct_cnn / total_ct\n",
    "    cnn_se_acc = correct_cnn_se / total_ct\n",
    "\n",
    "    cnn_acc_record['val'].append(cnn_acc)\n",
    "    cnn_se_acc_record['val'].append(cnn_se_acc)\n",
    "\n",
    "    best_cnn_acc, best_cnn_se_acc = best_acc\n",
    "    best_cnn, best_cnn_se = best_model\n",
    "    if cnn_acc > best_cnn_acc:\n",
    "        best_cnn_acc = cnn_acc\n",
    "        best_cnn = deepcopy(model_cnn.state_dict())\n",
    "    \n",
    "    if cnn_se_acc > best_cnn_se_acc:\n",
    "        best_cnn_se_acc = cnn_se_acc\n",
    "        best_cnn_se = deepcopy(model_cnn_se.state_dict())\n",
    "    \n",
    "\n",
    "    print(f'epoch: {epoch} validation accuracy| CNN: {round(cnn_acc, 5)} CNN-SE: {round(cnn_se_acc, 5)}')\n",
    "    return (best_cnn_acc, best_cnn_se_acc), (best_cnn, best_cnn_se)"
   ]
  },
  {
   "cell_type": "code",
   "execution_count": 7,
   "metadata": {},
   "outputs": [
    {
     "name": "stdout",
     "output_type": "stream",
     "text": [
      "epoch: 0 training accuracy| CNN: 0.14758 CNN-SE: 0.15458\n",
      "epoch: 0 validation accuracy| CNN: 0.24275 CNN-SE: 0.19075\n",
      "epoch: 1 training accuracy| CNN: 0.47842 CNN-SE: 0.48758\n",
      "epoch: 1 validation accuracy| CNN: 0.37575 CNN-SE: 0.22225\n",
      "epoch: 2 training accuracy| CNN: 0.90067 CNN-SE: 0.90567\n",
      "epoch: 2 validation accuracy| CNN: 0.4275 CNN-SE: 0.231\n",
      "epoch: 3 training accuracy| CNN: 0.99833 CNN-SE: 0.998\n",
      "epoch: 3 validation accuracy| CNN: 0.46475 CNN-SE: 0.4205\n",
      "epoch: 4 training accuracy| CNN: 0.99992 CNN-SE: 1.0\n",
      "epoch: 4 validation accuracy| CNN: 0.467 CNN-SE: 0.44975\n",
      "epoch: 5 training accuracy| CNN: 1.0 CNN-SE: 1.0\n",
      "epoch: 5 validation accuracy| CNN: 0.46625 CNN-SE: 0.44775\n",
      "epoch: 6 training accuracy| CNN: 1.0 CNN-SE: 1.0\n",
      "epoch: 6 validation accuracy| CNN: 0.46425 CNN-SE: 0.448\n",
      "epoch: 7 training accuracy| CNN: 1.0 CNN-SE: 1.0\n",
      "epoch: 7 validation accuracy| CNN: 0.4665 CNN-SE: 0.444\n",
      "epoch: 8 training accuracy| CNN: 1.0 CNN-SE: 1.0\n",
      "epoch: 8 validation accuracy| CNN: 0.46725 CNN-SE: 0.44425\n",
      "epoch: 9 training accuracy| CNN: 1.0 CNN-SE: 1.0\n",
      "epoch: 9 validation accuracy| CNN: 0.46225 CNN-SE: 0.445\n",
      "epoch: 10 training accuracy| CNN: 1.0 CNN-SE: 1.0\n",
      "epoch: 10 validation accuracy| CNN: 0.46 CNN-SE: 0.44075\n",
      "epoch: 11 training accuracy| CNN: 1.0 CNN-SE: 1.0\n",
      "epoch: 11 validation accuracy| CNN: 0.46125 CNN-SE: 0.437\n",
      "epoch: 12 training accuracy| CNN: 1.0 CNN-SE: 1.0\n",
      "epoch: 12 validation accuracy| CNN: 0.46125 CNN-SE: 0.43625\n",
      "epoch: 13 training accuracy| CNN: 1.0 CNN-SE: 1.0\n",
      "epoch: 13 validation accuracy| CNN: 0.45925 CNN-SE: 0.43475\n",
      "epoch: 14 training accuracy| CNN: 1.0 CNN-SE: 1.0\n",
      "epoch: 14 validation accuracy| CNN: 0.4635 CNN-SE: 0.43475\n",
      "epoch: 15 training accuracy| CNN: 1.0 CNN-SE: 1.0\n",
      "epoch: 15 validation accuracy| CNN: 0.46 CNN-SE: 0.43125\n",
      "epoch: 16 training accuracy| CNN: 1.0 CNN-SE: 1.0\n",
      "epoch: 16 validation accuracy| CNN: 0.458 CNN-SE: 0.4325\n",
      "epoch: 17 training accuracy| CNN: 1.0 CNN-SE: 1.0\n",
      "epoch: 17 validation accuracy| CNN: 0.45475 CNN-SE: 0.42875\n",
      "epoch: 18 training accuracy| CNN: 1.0 CNN-SE: 1.0\n",
      "epoch: 18 validation accuracy| CNN: 0.456 CNN-SE: 0.42825\n",
      "epoch: 19 training accuracy| CNN: 1.0 CNN-SE: 1.0\n",
      "epoch: 19 validation accuracy| CNN: 0.456 CNN-SE: 0.4285\n"
     ]
    }
   ],
   "source": [
    "EPOCHS = 20\n",
    "for epoch in range(EPOCHS):\n",
    "    train(epoch)\n",
    "    (best_cnn_acc, best_cnn_se_acc), (best_cnn, best_cnn_se) = validation(epoch, (best_cnn_acc, best_cnn_se_acc), (best_cnn, best_cnn_se))"
   ]
  },
  {
   "cell_type": "code",
   "execution_count": 10,
   "metadata": {},
   "outputs": [
    {
     "name": "stdout",
     "output_type": "stream",
     "text": [
      "test accuracy| CNN: 0.47125 CNN-SE: 0.458\n"
     ]
    }
   ],
   "source": [
    "model_cnn.load_state_dict(best_cnn)\n",
    "model_cnn_se.load_state_dict(best_cnn_se)\n",
    "model_cnn.eval()\n",
    "model_cnn_se.eval()\n",
    "correct_cnn = 0\n",
    "correct_cnn_se = 0\n",
    "total_ct = 0\n",
    "with torch.no_grad():\n",
    "    for x,y in test_loader:\n",
    "        x: torch.Tensor = x.to(device)\n",
    "        y: torch.Tensor = y.to(device)\n",
    "\n",
    "        y_hat_cnn = model_cnn(x)\n",
    "        y_hat_cnn_se = model_cnn_se(x)\n",
    "        correct_cnn += (torch.max(y_hat_cnn.data, 1)[1] == y).float().sum().item()\n",
    "        correct_cnn_se += (torch.max(y_hat_cnn_se.data, 1)[1] == y).float().sum().item()\n",
    "        total_ct += y.size(0)\n",
    "\n",
    "cnn_acc = correct_cnn / total_ct\n",
    "cnn_se_acc = correct_cnn_se / total_ct\n",
    "\n",
    "torch.save(model_cnn, \"saved-models/cnn.pt\")\n",
    "torch.save(model_cnn_se, \"saved-models/cnn-se.pt\")\n",
    "\n",
    "print(f'test accuracy| CNN: {round(cnn_acc, 5)} CNN-SE: {round(cnn_se_acc, 5)}')\n"
   ]
  },
  {
   "cell_type": "code",
   "execution_count": 11,
   "metadata": {},
   "outputs": [
    {
     "data": {
      "image/png": "[encoded data removed]",
      "text/plain": [
       "<Figure size 640x480 with 1 Axes>"
      ]
     },
     "metadata": {},
     "output_type": "display_data"
    }
   ],
   "source": [
    "plt.plot(cnn_acc_record['train'], label='CNN (train)')\n",
    "plt.plot(cnn_acc_record['val'], label='CNN (val)')\n",
    "\n",
    "plt.plot(cnn_se_acc_record['train'], label='CNN-SE (train)')\n",
    "plt.plot(cnn_se_acc_record['val'], label='CNN-SE (val)')\n",
    "\n",
    "plt.title('Training and Validation Accuracy for Two Models')\n",
    "plt.legend()\n",
    "\n",
    "plt.show()\n"
   ]
  }
 ],
 "metadata": {
  "kernelspec": {
   "display_name": "Python 3",
   "language": "python",
   "name": "python3"
  },
  "language_info": {
   "codemirror_mode": {
    "name": "ipython",
    "version": 3
   },
   "file_extension": ".py",
   "mimetype": "text/x-python",
   "name": "python",
   "nbconvert_exporter": "python",
   "pygments_lexer": "ipython3",
   "version": "3.11.0"
  },
  "orig_nbformat": 4
 },
 "nbformat": 4,
 "nbformat_minor": 2
}
